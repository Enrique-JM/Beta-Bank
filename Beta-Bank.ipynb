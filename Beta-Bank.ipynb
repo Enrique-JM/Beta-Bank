{
 "cells": [
  {
   "cell_type": "markdown",
   "metadata": {},
   "source": [
    "## Descripción <a class=\"tocSkip\"></a>\n",
    "\n",
    "Los clientes de Beta Bank se están yendo, cada mes, poco a poco. Los banqueros descubrieron que es más barato salvar a los clientes existentes que atraer nuevos.\n",
    "\n",
    "Necesitamos predecir si un cliente dejará el banco pronto. Tú tienes los datos sobre el comportamiento pasado de los clientes y la terminación de contratos con el banco.\n",
    "\n",
    "Crea un modelo con el máximo valor F1 posible. Para aprobar la revisión, necesitas un valor F1 de al menos 0.59. Verifica F1 para el conjunto de prueba. \n",
    "\n",
    "Además, debes medir la métrica AUC-ROC y compararla con el valor F1.\n",
    "\n",
    "\n",
    "Características\n",
    "\n",
    "RowNumber: índice de cadena de datos\n",
    "CustomerId: identificador de cliente único\n",
    "Surname: apellido\n",
    "CreditScore: valor de crédito\n",
    "Geography: país de residencia\n",
    "Gender: sexo\n",
    "Age: edad\n",
    "Tenure: período durante el cual ha madurado el depósito a plazo fijo de un cliente (años)\n",
    "Balance: saldo de la cuenta\n",
    "NumOfProducts: número de productos bancarios utilizados por el cliente\n",
    "HasCrCard: el cliente tiene una tarjeta de crédito (1 - sí; 0 - no)\n",
    "IsActiveMember: actividad del cliente (1 - sí; 0 - no)\n",
    "EstimatedSalary: salario estimado\n",
    "Objetivo\n",
    "\n",
    "Exited: El cliente se ha ido (1 - sí; 0 - no)"
   ]
  },
  {
   "cell_type": "markdown",
   "metadata": {},
   "source": [
    "----"
   ]
  },
  {
   "cell_type": "code",
   "execution_count": 1,
   "metadata": {
    "trusted": false
   },
   "outputs": [],
   "source": [
    "import pandas as pd\n",
    "import numpy as np\n",
    "from sklearn.model_selection import train_test_split\n",
    "from sklearn.preprocessing import StandardScaler\n",
    "from sklearn.linear_model import LogisticRegression\n",
    "from sklearn.metrics import f1_score, roc_auc_score, roc_curve, confusion_matrix\n",
    "from sklearn.ensemble import RandomForestClassifier\n",
    "from sklearn.tree import DecisionTreeClassifier\n",
    "from sklearn.model_selection import GridSearchCV\n",
    "import matplotlib.pyplot as plt\n",
    "import seaborn as sns\n",
    "from sklearn.utils import shuffle\n",
    "\n",
    "import warnings\n",
    "warnings.filterwarnings('ignore')"
   ]
  },
  {
   "cell_type": "code",
   "execution_count": 2,
   "metadata": {
    "trusted": false
   },
   "outputs": [],
   "source": [
    "try:\n",
    "    df = pd.read_csv('Churn.csv') # Intenta cargar los datos desde la ruta local\n",
    "except FileNotFoundError:\n",
    "    df = pd.read_csv('/datasets/Churn.csv') # Si no lo encuentra, intenta desde la ruta del servidor"
   ]
  },
  {
   "cell_type": "code",
   "execution_count": 3,
   "metadata": {
    "trusted": false
   },
   "outputs": [
    {
     "name": "stdout",
     "output_type": "stream",
     "text": [
      "Primeras 5 filas del DataFrame:\n",
      "   RowNumber  CustomerId   Surname  CreditScore Geography  Gender  Age  \\\n",
      "0          1    15634602  Hargrave          619    France  Female   42   \n",
      "1          2    15647311      Hill          608     Spain  Female   41   \n",
      "2          3    15619304      Onio          502    France  Female   42   \n",
      "3          4    15701354      Boni          699    France  Female   39   \n",
      "4          5    15737888  Mitchell          850     Spain  Female   43   \n",
      "\n",
      "   Tenure    Balance  NumOfProducts  HasCrCard  IsActiveMember  \\\n",
      "0     2.0       0.00              1          1               1   \n",
      "1     1.0   83807.86              1          0               1   \n",
      "2     8.0  159660.80              3          1               0   \n",
      "3     1.0       0.00              2          0               0   \n",
      "4     2.0  125510.82              1          1               1   \n",
      "\n",
      "   EstimatedSalary  Exited  \n",
      "0        101348.88       1  \n",
      "1        112542.58       0  \n",
      "2        113931.57       1  \n",
      "3         93826.63       0  \n",
      "4         79084.10       0  \n",
      "\n",
      "Información general del DataFrame:\n",
      "<class 'pandas.core.frame.DataFrame'>\n",
      "RangeIndex: 10000 entries, 0 to 9999\n",
      "Data columns (total 14 columns):\n",
      " #   Column           Non-Null Count  Dtype  \n",
      "---  ------           --------------  -----  \n",
      " 0   RowNumber        10000 non-null  int64  \n",
      " 1   CustomerId       10000 non-null  int64  \n",
      " 2   Surname          10000 non-null  object \n",
      " 3   CreditScore      10000 non-null  int64  \n",
      " 4   Geography        10000 non-null  object \n",
      " 5   Gender           10000 non-null  object \n",
      " 6   Age              10000 non-null  int64  \n",
      " 7   Tenure           9091 non-null   float64\n",
      " 8   Balance          10000 non-null  float64\n",
      " 9   NumOfProducts    10000 non-null  int64  \n",
      " 10  HasCrCard        10000 non-null  int64  \n",
      " 11  IsActiveMember   10000 non-null  int64  \n",
      " 12  EstimatedSalary  10000 non-null  float64\n",
      " 13  Exited           10000 non-null  int64  \n",
      "dtypes: float64(3), int64(8), object(3)\n",
      "memory usage: 1.1+ MB\n",
      "None\n",
      "\n",
      "Estadísticas descriptivas de las columnas numéricas:\n",
      "         RowNumber    CustomerId   CreditScore           Age       Tenure  \\\n",
      "count  10000.00000  1.000000e+04  10000.000000  10000.000000  9091.000000   \n",
      "mean    5000.50000  1.569094e+07    650.528800     38.921800     4.997690   \n",
      "std     2886.89568  7.193619e+04     96.653299     10.487806     2.894723   \n",
      "min        1.00000  1.556570e+07    350.000000     18.000000     0.000000   \n",
      "25%     2500.75000  1.562853e+07    584.000000     32.000000     2.000000   \n",
      "50%     5000.50000  1.569074e+07    652.000000     37.000000     5.000000   \n",
      "75%     7500.25000  1.575323e+07    718.000000     44.000000     7.000000   \n",
      "max    10000.00000  1.581569e+07    850.000000     92.000000    10.000000   \n",
      "\n",
      "             Balance  NumOfProducts    HasCrCard  IsActiveMember  \\\n",
      "count   10000.000000   10000.000000  10000.00000    10000.000000   \n",
      "mean    76485.889288       1.530200      0.70550        0.515100   \n",
      "std     62397.405202       0.581654      0.45584        0.499797   \n",
      "min         0.000000       1.000000      0.00000        0.000000   \n",
      "25%         0.000000       1.000000      0.00000        0.000000   \n",
      "50%     97198.540000       1.000000      1.00000        1.000000   \n",
      "75%    127644.240000       2.000000      1.00000        1.000000   \n",
      "max    250898.090000       4.000000      1.00000        1.000000   \n",
      "\n",
      "       EstimatedSalary        Exited  \n",
      "count     10000.000000  10000.000000  \n",
      "mean     100090.239881      0.203700  \n",
      "std       57510.492818      0.402769  \n",
      "min          11.580000      0.000000  \n",
      "25%       51002.110000      0.000000  \n",
      "50%      100193.915000      0.000000  \n",
      "75%      149388.247500      0.000000  \n",
      "max      199992.480000      1.000000  \n",
      "\n",
      "Valores únicos y conteo de la columna 'Exited':\n",
      "0    7963\n",
      "1    2037\n",
      "Name: Exited, dtype: int64\n",
      "\n",
      "Valores únicos y conteo de la columna 'Geography':\n",
      "France     5014\n",
      "Germany    2509\n",
      "Spain      2477\n",
      "Name: Geography, dtype: int64\n",
      "\n",
      "Valores únicos y conteo de la columna 'Gender':\n",
      "Male      5457\n",
      "Female    4543\n",
      "Name: Gender, dtype: int64\n",
      "\n",
      "Valores faltantes por columna:\n",
      "RowNumber            0\n",
      "CustomerId           0\n",
      "Surname              0\n",
      "CreditScore          0\n",
      "Geography            0\n",
      "Gender               0\n",
      "Age                  0\n",
      "Tenure             909\n",
      "Balance              0\n",
      "NumOfProducts        0\n",
      "HasCrCard            0\n",
      "IsActiveMember       0\n",
      "EstimatedSalary      0\n",
      "Exited               0\n",
      "dtype: int64\n"
     ]
    }
   ],
   "source": [
    "print(\"Primeras 5 filas del DataFrame:\")\n",
    "print(df.head())\n",
    "print(\"\\nInformación general del DataFrame:\")\n",
    "print(df.info())\n",
    "print(\"\\nEstadísticas descriptivas de las columnas numéricas:\")\n",
    "print(df.describe())\n",
    "print(\"\\nValores únicos y conteo de la columna 'Exited':\")\n",
    "print(df['Exited'].value_counts())\n",
    "print(\"\\nValores únicos y conteo de la columna 'Geography':\")\n",
    "print(df['Geography'].value_counts())\n",
    "print(\"\\nValores únicos y conteo de la columna 'Gender':\")\n",
    "print(df['Gender'].value_counts())\n",
    "print(\"\\nValores faltantes por columna:\")\n",
    "print(df.isnull().sum())"
   ]
  },
  {
   "cell_type": "code",
   "execution_count": 4,
   "metadata": {
    "trusted": false
   },
   "outputs": [
    {
     "name": "stdout",
     "output_type": "stream",
     "text": [
      "\n",
      "Valores faltantes después de la imputación:\n",
      "RowNumber          0\n",
      "CustomerId         0\n",
      "Surname            0\n",
      "CreditScore        0\n",
      "Geography          0\n",
      "Gender             0\n",
      "Age                0\n",
      "Tenure             0\n",
      "Balance            0\n",
      "NumOfProducts      0\n",
      "HasCrCard          0\n",
      "IsActiveMember     0\n",
      "EstimatedSalary    0\n",
      "Exited             0\n",
      "dtype: int64\n"
     ]
    }
   ],
   "source": [
    "median_tenure = df['Tenure'].median()\n",
    "df['Tenure'] = df['Tenure'].fillna(median_tenure)\n",
    "\n",
    "print(\"\\nValores faltantes después de la imputación:\")\n",
    "print(df.isnull().sum())"
   ]
  },
  {
   "cell_type": "code",
   "execution_count": 5,
   "metadata": {
    "trusted": false
   },
   "outputs": [
    {
     "name": "stdout",
     "output_type": "stream",
     "text": [
      "\n",
      "Primeras 5 filas del DataFrame después de la codificación OHE:\n",
      "   RowNumber  CustomerId   Surname  CreditScore  Age  Tenure    Balance  \\\n",
      "0          1    15634602  Hargrave          619   42     2.0       0.00   \n",
      "1          2    15647311      Hill          608   41     1.0   83807.86   \n",
      "2          3    15619304      Onio          502   42     8.0  159660.80   \n",
      "3          4    15701354      Boni          699   39     1.0       0.00   \n",
      "4          5    15737888  Mitchell          850   43     2.0  125510.82   \n",
      "\n",
      "   NumOfProducts  HasCrCard  IsActiveMember  EstimatedSalary  Exited  \\\n",
      "0              1          1               1        101348.88       1   \n",
      "1              1          0               1        112542.58       0   \n",
      "2              3          1               0        113931.57       1   \n",
      "3              2          0               0         93826.63       0   \n",
      "4              1          1               1         79084.10       0   \n",
      "\n",
      "   Geography_Germany  Geography_Spain  Gender_Male  \n",
      "0                  0                0            0  \n",
      "1                  0                1            0  \n",
      "2                  0                0            0  \n",
      "3                  0                0            0  \n",
      "4                  0                1            0  \n"
     ]
    }
   ],
   "source": [
    "df = pd.get_dummies(df, columns=['Geography', 'Gender'], drop_first=True)\n",
    "print(\"\\nPrimeras 5 filas del DataFrame después de la codificación OHE:\")\n",
    "print(df.head())"
   ]
  },
  {
   "cell_type": "code",
   "execution_count": 6,
   "metadata": {
    "trusted": false
   },
   "outputs": [
    {
     "name": "stdout",
     "output_type": "stream",
     "text": [
      "\n",
      "Primeras 5 filas del DataFrame después del escalado:\n",
      "   RowNumber  CustomerId   Surname  CreditScore       Age    Tenure   Balance  \\\n",
      "0          1    15634602  Hargrave    -0.326221  0.293517 -1.086246 -1.225848   \n",
      "1          2    15647311      Hill    -0.440036  0.198164 -1.448581  0.117350   \n",
      "2          3    15619304      Onio    -1.536794  0.293517  1.087768  1.333053   \n",
      "3          4    15701354      Boni     0.501521  0.007457 -1.448581 -1.225848   \n",
      "4          5    15737888  Mitchell     2.063884  0.388871 -1.086246  0.785728   \n",
      "\n",
      "   NumOfProducts  HasCrCard  IsActiveMember  EstimatedSalary  Exited  \\\n",
      "0      -0.911583          1               1         0.021886       1   \n",
      "1      -0.911583          0               1         0.216534       0   \n",
      "2       2.527057          1               0         0.240687       1   \n",
      "3       0.807737          0               0        -0.108918       0   \n",
      "4      -0.911583          1               1        -0.365276       0   \n",
      "\n",
      "   Geography_Germany  Geography_Spain  Gender_Male  \n",
      "0                  0                0            0  \n",
      "1                  0                1            0  \n",
      "2                  0                0            0  \n",
      "3                  0                0            0  \n",
      "4                  0                1            0  \n"
     ]
    }
   ],
   "source": [
    "numeric_features = ['CreditScore', 'Age', 'Tenure', 'Balance', 'NumOfProducts', 'EstimatedSalary']\n",
    "\n",
    "scaler = StandardScaler()\n",
    "df[numeric_features] = scaler.fit_transform(df[numeric_features])\n",
    "\n",
    "print(\"\\nPrimeras 5 filas del DataFrame después del escalado:\")\n",
    "print(df.head())"
   ]
  },
  {
   "cell_type": "code",
   "execution_count": 7,
   "metadata": {
    "trusted": false
   },
   "outputs": [
    {
     "name": "stdout",
     "output_type": "stream",
     "text": [
      "Tamaño del conjunto de entrenamiento: (6000, 11)\n",
      "Tamaño del conjunto de validación: (2000, 11)\n",
      "Tamaño del conjunto de prueba: (2000, 11)\n"
     ]
    }
   ],
   "source": [
    "# Separar características y objetivo\n",
    "features = df.drop(['RowNumber', 'CustomerId', 'Surname', 'Exited'], axis=1)\n",
    "target = df['Exited']\n",
    "\n",
    "# Dividir en entrenamiento (60%) y el resto (40%)\n",
    "features_train, features_temp, target_train, target_temp = train_test_split(\n",
    "    features, target, test_size=0.4, random_state=12345\n",
    ")\n",
    "\n",
    "# Dividir el conjunto temporal en validación (20%) y prueba (20%)\n",
    "features_valid, features_test, target_valid, target_test = train_test_split(\n",
    "    features_temp, target_temp, test_size=0.5, random_state=12345\n",
    ")\n",
    "\n",
    "# Imprimir el tamaño de los conjuntos resultantes\n",
    "print(\"Tamaño del conjunto de entrenamiento:\", features_train.shape)\n",
    "print(\"Tamaño del conjunto de validación:\", features_valid.shape)\n",
    "print(\"Tamaño del conjunto de prueba:\", features_test.shape)"
   ]
  },
  {
   "cell_type": "code",
   "execution_count": 8,
   "metadata": {
    "trusted": false
   },
   "outputs": [
    {
     "name": "stdout",
     "output_type": "stream",
     "text": [
      "Distribución de clases en la columna 'Exited':\n",
      "0    0.800667\n",
      "1    0.199333\n",
      "Name: Exited, dtype: float64\n"
     ]
    }
   ],
   "source": [
    "print(\"Distribución de clases en la columna 'Exited':\")\n",
    "print(target_train.value_counts(normalize=True))  # Muestra las proporciones en el conjunto de entrenamiento"
   ]
  },
  {
   "cell_type": "code",
   "execution_count": 9,
   "metadata": {
    "trusted": false
   },
   "outputs": [
    {
     "name": "stdout",
     "output_type": "stream",
     "text": [
      "Puntaje F1 en el conjunto de validación: 0.33108108108108103\n",
      "AUC-ROC en el conjunto de validación: 0.7588057029137607\n",
      "Puntaje F1 en el conjunto de prueba: 0.27177700348432055\n",
      "AUC-ROC en el conjunto de prueba: 0.7387204660373483\n"
     ]
    },
    {
     "data": {
      "image/png": "[encoded data removed]",
      "text/plain": [
       "<Figure size 640x480 with 2 Axes>"
      ]
     },
     "metadata": {},
     "output_type": "display_data"
    }
   ],
   "source": [
    "# Inicializar el modelo de Regresión Logística\n",
    "model = LogisticRegression(random_state=12345)\n",
    "\n",
    "# Entrenar el modelo con los datos de entrenamiento\n",
    "model.fit(features_train, target_train)\n",
    "\n",
    "# Predecir las probabilidades en los conjuntos de validación y prueba\n",
    "probabilities_valid = model.predict_proba(features_valid)[:, 1]\n",
    "probabilities_test = model.predict_proba(features_test)[:, 1]\n",
    "\n",
    "# Predecir las clases en los conjuntos de validación y prueba\n",
    "predictions_valid = model.predict(features_valid)\n",
    "predictions_test = model.predict(features_test)\n",
    "\n",
    "# Calcular el puntaje F1 en los conjuntos de validación y prueba\n",
    "f1_valid = f1_score(target_valid, predictions_valid)\n",
    "f1_test = f1_score(target_test, predictions_test)\n",
    "\n",
    "# Calcular el AUC-ROC en los conjuntos de validación y prueba\n",
    "auc_roc_valid = roc_auc_score(target_valid, probabilities_valid)\n",
    "auc_roc_test = roc_auc_score(target_test, probabilities_test)\n",
    "\n",
    "print(\"Puntaje F1 en el conjunto de validación:\", f1_valid)\n",
    "print(\"AUC-ROC en el conjunto de validación:\", auc_roc_valid)\n",
    "print(\"Puntaje F1 en el conjunto de prueba:\", f1_test)\n",
    "print(\"AUC-ROC en el conjunto de prueba:\", auc_roc_test)\n",
    "\n",
    "# Generar y mostrar la matriz de confusión en el conjunto de prueba\n",
    "cm = confusion_matrix(target_test, predictions_test)\n",
    "sns.heatmap(cm, annot=True, fmt='d', cmap='Blues')\n",
    "plt.xlabel('Predicted')\n",
    "plt.ylabel('Actual')\n",
    "plt.title('Confusion Matrix (Test Set)')\n",
    "plt.show()"
   ]
  },
  {
   "cell_type": "code",
   "execution_count": 10,
   "metadata": {
    "trusted": false
   },
   "outputs": [
    {
     "name": "stdout",
     "output_type": "stream",
     "text": [
      "Mejores parámetros: {'C': 0.01, 'class_weight': 'balanced', 'penalty': 'l1', 'solver': 'liblinear'}\n",
      "Mejor puntaje F1: 0.5036695988540064\n",
      "Puntaje F1 en el conjunto de prueba (Regresión Logística): 0.4986498649864987\n",
      "AUC-ROC en el conjunto de prueba (Regresión Logística): 0.7517857919172021\n"
     ]
    },
    {
     "data": {
      "image/png": "[encoded data removed]",
      "text/plain": [
       "<Figure size 640x480 with 2 Axes>"
      ]
     },
     "metadata": {},
     "output_type": "display_data"
    }
   ],
   "source": [
    "# Definir los parámetros para la búsqueda de cuadrícula\n",
    "param_grid = {'penalty': ['l1', 'l2'], # Tipos de regularización\n",
    "              'C': [0.001, 0.01, 0.1, 1, 10, 100], # Valores para la fuerza de regularización\n",
    "              'solver': ['liblinear', 'saga'], # Algoritmos para la optimización\n",
    "              'class_weight': ['balanced'] # Ponderación de clases\n",
    "             }\n",
    "\n",
    "# Inicializar GridSearchCV con el modelo de Regresión Logística\n",
    "grid_search = GridSearchCV(LogisticRegression(random_state=12345, max_iter=1000),\n",
    "                           param_grid,\n",
    "                           scoring='f1',\n",
    "                           cv=3,  # Usar validación cruzada K-fold con 3 folds\n",
    "                           n_jobs=-1) # Usar todos los núcleos disponibles\n",
    "\n",
    "# Ajustar GridSearchCV a los datos de entrenamiento\n",
    "grid_search.fit(features_train, target_train)\n",
    "\n",
    "# Imprimir los mejores parámetros y el mejor puntaje F1 encontrado\n",
    "print(\"Mejores parámetros:\", grid_search.best_params_)\n",
    "print(\"Mejor puntaje F1:\", grid_search.best_score_)\n",
    "\n",
    "# Obtener el mejor modelo\n",
    "best_model_lr = grid_search.best_estimator_\n",
    "\n",
    "# Predecir las probabilidades en el conjunto de prueba con el mejor modelo\n",
    "probabilities_test_lr = best_model_lr.predict_proba(features_test)[:, 1]\n",
    "\n",
    "# Predecir las clases en el conjunto de prueba con el mejor modelo\n",
    "predictions_test_lr = best_model_lr.predict(features_test)\n",
    "\n",
    "# Calcular el puntaje F1 y el AUC-ROC en el conjunto de prueba con el mejor modelo\n",
    "f1_test_lr = f1_score(target_test, predictions_test_lr)\n",
    "auc_roc_test_lr = roc_auc_score(target_test, probabilities_test_lr)\n",
    "\n",
    "print(\"Puntaje F1 en el conjunto de prueba (Regresión Logística):\", f1_test_lr)\n",
    "print(\"AUC-ROC en el conjunto de prueba (Regresión Logística):\", auc_roc_test_lr)\n",
    "\n",
    "# Matriz de confusión\n",
    "cm_lr = confusion_matrix(target_test, predictions_test_lr)\n",
    "sns.heatmap(cm_lr, annot=True, fmt='d', cmap='Blues')\n",
    "plt.xlabel('Predicted')\n",
    "plt.ylabel('Actual')\n",
    "plt.title('Confusion Matrix - Regresión Logística (Test Set)')\n",
    "plt.show()"
   ]
  },
  {
   "cell_type": "code",
   "execution_count": 11,
   "metadata": {
    "trusted": false
   },
   "outputs": [
    {
     "name": "stdout",
     "output_type": "stream",
     "text": [
      "Mejores parámetros (Random Forest): {'class_weight': 'balanced', 'max_depth': 8, 'min_samples_leaf': 2, 'min_samples_split': 8, 'n_estimators': 200}\n",
      "Mejor puntaje F1 (Random Forest): 0.6195138109693712\n",
      "Puntaje F1 en el conjunto de prueba (Random Forest): 0.6168623265741728\n",
      "AUC-ROC en el conjunto de prueba (Random Forest): 0.858899577406303\n"
     ]
    },
    {
     "data": {
      "image/png": "[encoded data removed]",
      "text/plain": [
       "<Figure size 640x480 with 2 Axes>"
      ]
     },
     "metadata": {},
     "output_type": "display_data"
    }
   ],
   "source": [
    "# Definir la grilla de hiperparámetros para la búsqueda\n",
    "param_grid_rf = {'n_estimators': [50, 100, 200],\n",
    "                  'max_depth': [4, 6, 8],\n",
    "                  'min_samples_split': [2, 4, 8],\n",
    "                  'min_samples_leaf': [1, 2, 3],\n",
    "                  'class_weight': ['balanced']}\n",
    "\n",
    "# Inicializar GridSearchCV con el modelo de Random Forest\n",
    "grid_search_rf = GridSearchCV(RandomForestClassifier(random_state=12345),\n",
    "                              param_grid_rf,\n",
    "                              scoring='f1',\n",
    "                              cv=3, # Usar validación cruzada K-fold con 3 folds\n",
    "                              n_jobs=-1) # Usar todos los núcleos disponibles\n",
    "\n",
    "# Ajustar GridSearchCV a los datos de entrenamiento\n",
    "grid_search_rf.fit(features_train, target_train)\n",
    "\n",
    "# Imprimir los mejores parámetros y el mejor puntaje F1 encontrado\n",
    "print(\"Mejores parámetros (Random Forest):\", grid_search_rf.best_params_)\n",
    "print(\"Mejor puntaje F1 (Random Forest):\", grid_search_rf.best_score_)\n",
    "\n",
    "# Obtener el mejor modelo de Random Forest\n",
    "best_model_rf = grid_search_rf.best_estimator_\n",
    "\n",
    "# Predecir las probabilidades en el conjunto de prueba con el mejor modelo de Random Forest\n",
    "probabilities_test_rf = best_model_rf.predict_proba(features_test)[:, 1]\n",
    "\n",
    "# Predecir las clases en el conjunto de prueba con el mejor modelo de Random Forest\n",
    "predictions_test_rf = best_model_rf.predict(features_test)\n",
    "\n",
    "# Calcular el puntaje F1 y el AUC-ROC en el conjunto de prueba con el mejor modelo de Random Forest\n",
    "f1_test_rf = f1_score(target_test, predictions_test_rf)\n",
    "auc_roc_test_rf = roc_auc_score(target_test, probabilities_test_rf)\n",
    "\n",
    "print(\"Puntaje F1 en el conjunto de prueba (Random Forest):\", f1_test_rf)\n",
    "print(\"AUC-ROC en el conjunto de prueba (Random Forest):\", auc_roc_test_rf)\n",
    "\n",
    "# Matriz de confusión\n",
    "cm_rf = confusion_matrix(target_test, predictions_test_rf)\n",
    "sns.heatmap(cm_rf, annot=True, fmt='d', cmap='Blues')\n",
    "plt.xlabel('Predicted')\n",
    "plt.ylabel('Actual')\n",
    "plt.title('Confusion Matrix - Random Forest (Test Set)')\n",
    "plt.show()\n"
   ]
  }
 ],
 "metadata": {
  "ExecuteTimeLog": [
   {
    "duration": 370,
    "start_time": "2025-01-15T04:58:56.092Z"
   },
   {
    "duration": 14,
    "start_time": "2025-01-15T05:01:48.244Z"
   },
   {
    "duration": 545,
    "start_time": "2025-01-15T05:03:34.237Z"
   },
   {
    "duration": 358,
    "start_time": "2025-01-15T05:17:46.406Z"
   },
   {
    "duration": 2033,
    "start_time": "2025-01-15T05:23:03.589Z"
   },
   {
    "duration": 1447,
    "start_time": "2025-01-15T05:23:59.163Z"
   },
   {
    "duration": 505,
    "start_time": "2025-01-15T05:24:49.884Z"
   },
   {
    "duration": 95,
    "start_time": "2025-01-15T05:26:34.654Z"
   },
   {
    "duration": 321,
    "start_time": "2025-01-15T05:26:40.529Z"
   },
   {
    "duration": 262,
    "start_time": "2025-01-15T05:26:40.853Z"
   },
   {
    "duration": 1438,
    "start_time": "2025-01-15T05:26:41.117Z"
   },
   {
    "duration": 78,
    "start_time": "2025-01-15T05:27:15.065Z"
   },
   {
    "duration": 78,
    "start_time": "2025-01-15T05:27:39.612Z"
   },
   {
    "duration": 108,
    "start_time": "2025-01-15T05:47:47.159Z"
   },
   {
    "duration": 440,
    "start_time": "2025-01-15T05:48:36.293Z"
   },
   {
    "duration": 6711,
    "start_time": "2025-01-15T05:49:22.531Z"
   },
   {
    "duration": 25,
    "start_time": "2025-01-15T05:54:08.462Z"
   },
   {
    "duration": 340,
    "start_time": "2025-03-11T22:52:58.745Z"
   },
   {
    "duration": 5,
    "start_time": "2025-03-11T22:52:59.087Z"
   },
   {
    "duration": 0,
    "start_time": "2025-03-11T22:52:59.094Z"
   },
   {
    "duration": 0,
    "start_time": "2025-03-11T22:52:59.096Z"
   },
   {
    "duration": 14,
    "start_time": "2025-03-11T22:53:20.139Z"
   },
   {
    "duration": 330,
    "start_time": "2025-03-11T22:53:29.092Z"
   },
   {
    "duration": 5,
    "start_time": "2025-03-11T22:53:29.424Z"
   },
   {
    "duration": 0,
    "start_time": "2025-03-11T22:53:29.431Z"
   },
   {
    "duration": 0,
    "start_time": "2025-03-11T22:53:29.442Z"
   },
   {
    "duration": 34,
    "start_time": "2025-03-11T22:54:17.417Z"
   },
   {
    "duration": 37,
    "start_time": "2025-03-11T22:54:32.250Z"
   },
   {
    "duration": 53,
    "start_time": "2025-03-11T22:54:43.253Z"
   },
   {
    "duration": 808,
    "start_time": "2025-03-11T22:54:51.751Z"
   },
   {
    "duration": 893,
    "start_time": "2025-03-11T22:55:03.251Z"
   },
   {
    "duration": 2602,
    "start_time": "2025-03-11T22:58:47.950Z"
   },
   {
    "duration": 15,
    "start_time": "2025-03-11T22:59:08.434Z"
   },
   {
    "duration": 38,
    "start_time": "2025-03-11T22:59:11.877Z"
   },
   {
    "duration": 11,
    "start_time": "2025-03-11T22:59:34.476Z"
   },
   {
    "duration": 4,
    "start_time": "2025-03-11T23:01:00.704Z"
   },
   {
    "duration": 4,
    "start_time": "2025-03-11T23:01:10.644Z"
   },
   {
    "duration": 7,
    "start_time": "2025-03-11T23:01:24.260Z"
   },
   {
    "duration": 4,
    "start_time": "2025-03-11T23:01:33.880Z"
   },
   {
    "duration": 125,
    "start_time": "2025-03-11T23:02:02.250Z"
   },
   {
    "duration": 12,
    "start_time": "2025-03-11T23:02:05.259Z"
   },
   {
    "duration": 18,
    "start_time": "2025-03-11T23:02:17.571Z"
   },
   {
    "duration": 149,
    "start_time": "2025-03-11T23:03:16.806Z"
   },
   {
    "duration": 899,
    "start_time": "2025-03-11T23:55:15.967Z"
   },
   {
    "duration": 16,
    "start_time": "2025-03-11T23:55:43.339Z"
   },
   {
    "duration": 2901,
    "start_time": "2025-03-11T23:56:01.400Z"
   },
   {
    "duration": 27,
    "start_time": "2025-03-11T23:56:04.304Z"
   },
   {
    "duration": 38,
    "start_time": "2025-03-11T23:56:04.333Z"
   },
   {
    "duration": 10,
    "start_time": "2025-03-11T23:56:04.376Z"
   },
   {
    "duration": 4,
    "start_time": "2025-03-11T23:56:04.389Z"
   },
   {
    "duration": 4,
    "start_time": "2025-03-11T23:56:04.395Z"
   },
   {
    "duration": 6,
    "start_time": "2025-03-11T23:56:04.401Z"
   },
   {
    "duration": 34,
    "start_time": "2025-03-11T23:56:04.409Z"
   },
   {
    "duration": 15,
    "start_time": "2025-03-11T23:56:04.445Z"
   },
   {
    "duration": 21,
    "start_time": "2025-03-11T23:56:04.461Z"
   },
   {
    "duration": 160,
    "start_time": "2025-03-11T23:56:04.483Z"
   },
   {
    "duration": 9,
    "start_time": "2025-03-11T23:56:04.645Z"
   },
   {
    "duration": 861,
    "start_time": "2025-03-11T23:56:30.936Z"
   },
   {
    "duration": 943,
    "start_time": "2025-03-12T00:03:40.287Z"
   },
   {
    "duration": 18,
    "start_time": "2025-03-12T00:04:09.455Z"
   },
   {
    "duration": 764,
    "start_time": "2025-03-12T00:04:22.207Z"
   },
   {
    "duration": 20,
    "start_time": "2025-03-12T00:04:36.867Z"
   },
   {
    "duration": 9924,
    "start_time": "2025-03-12T00:05:45.950Z"
   },
   {
    "duration": 1116,
    "start_time": "2025-03-12T00:06:52.387Z"
   },
   {
    "duration": 0,
    "start_time": "2025-03-12T00:06:53.505Z"
   },
   {
    "duration": 0,
    "start_time": "2025-03-12T00:06:53.508Z"
   },
   {
    "duration": 0,
    "start_time": "2025-03-12T00:06:53.509Z"
   },
   {
    "duration": 0,
    "start_time": "2025-03-12T00:06:53.511Z"
   },
   {
    "duration": 0,
    "start_time": "2025-03-12T00:06:53.512Z"
   },
   {
    "duration": 0,
    "start_time": "2025-03-12T00:06:53.513Z"
   },
   {
    "duration": 0,
    "start_time": "2025-03-12T00:06:53.515Z"
   },
   {
    "duration": 0,
    "start_time": "2025-03-12T00:06:53.516Z"
   },
   {
    "duration": 0,
    "start_time": "2025-03-12T00:06:53.517Z"
   },
   {
    "duration": 0,
    "start_time": "2025-03-12T00:06:53.519Z"
   },
   {
    "duration": 0,
    "start_time": "2025-03-12T00:06:53.545Z"
   },
   {
    "duration": 0,
    "start_time": "2025-03-12T00:06:53.546Z"
   },
   {
    "duration": 0,
    "start_time": "2025-03-12T00:06:53.548Z"
   },
   {
    "duration": 0,
    "start_time": "2025-03-12T00:06:53.549Z"
   },
   {
    "duration": 0,
    "start_time": "2025-03-12T00:06:53.550Z"
   },
   {
    "duration": 10489,
    "start_time": "2025-03-12T00:08:24.412Z"
   },
   {
    "duration": 28,
    "start_time": "2025-03-12T00:08:44.323Z"
   },
   {
    "duration": 997,
    "start_time": "2025-03-12T00:10:02.553Z"
   },
   {
    "duration": 16,
    "start_time": "2025-03-12T00:10:03.552Z"
   },
   {
    "duration": 101,
    "start_time": "2025-03-12T00:10:03.569Z"
   },
   {
    "duration": 11,
    "start_time": "2025-03-12T00:10:03.672Z"
   },
   {
    "duration": 4,
    "start_time": "2025-03-12T00:10:03.686Z"
   },
   {
    "duration": 4,
    "start_time": "2025-03-12T00:10:03.692Z"
   },
   {
    "duration": 8,
    "start_time": "2025-03-12T00:10:03.698Z"
   },
   {
    "duration": 7,
    "start_time": "2025-03-12T00:10:03.707Z"
   },
   {
    "duration": 39,
    "start_time": "2025-03-12T00:10:03.715Z"
   },
   {
    "duration": 23,
    "start_time": "2025-03-12T00:10:03.756Z"
   },
   {
    "duration": 116,
    "start_time": "2025-03-12T00:10:03.781Z"
   },
   {
    "duration": 11,
    "start_time": "2025-03-12T00:10:03.899Z"
   },
   {
    "duration": 833,
    "start_time": "2025-03-12T00:10:03.912Z"
   },
   {
    "duration": 15,
    "start_time": "2025-03-12T00:10:04.748Z"
   },
   {
    "duration": 792,
    "start_time": "2025-03-12T00:10:04.765Z"
   },
   {
    "duration": 244,
    "start_time": "2025-03-12T00:10:05.559Z"
   },
   {
    "duration": 1055,
    "start_time": "2025-03-12T00:11:12.535Z"
   },
   {
    "duration": 17,
    "start_time": "2025-03-12T00:11:13.592Z"
   },
   {
    "duration": 97,
    "start_time": "2025-03-12T00:11:13.611Z"
   },
   {
    "duration": 11,
    "start_time": "2025-03-12T00:11:13.710Z"
   },
   {
    "duration": 20,
    "start_time": "2025-03-12T00:11:13.724Z"
   },
   {
    "duration": 5,
    "start_time": "2025-03-12T00:11:13.745Z"
   },
   {
    "duration": 8,
    "start_time": "2025-03-12T00:11:13.754Z"
   },
   {
    "duration": 4,
    "start_time": "2025-03-12T00:11:13.766Z"
   },
   {
    "duration": 15,
    "start_time": "2025-03-12T00:11:13.772Z"
   },
   {
    "duration": 23,
    "start_time": "2025-03-12T00:11:13.789Z"
   },
   {
    "duration": 176,
    "start_time": "2025-03-12T00:11:13.814Z"
   },
   {
    "duration": 10,
    "start_time": "2025-03-12T00:11:13.993Z"
   },
   {
    "duration": 893,
    "start_time": "2025-03-12T00:11:14.005Z"
   },
   {
    "duration": 19,
    "start_time": "2025-03-12T00:11:14.902Z"
   },
   {
    "duration": 785,
    "start_time": "2025-03-12T00:11:14.922Z"
   },
   {
    "duration": 152361,
    "start_time": "2025-03-12T00:11:15.709Z"
   },
   {
    "duration": 335,
    "start_time": "2025-03-12T00:15:34.828Z"
   },
   {
    "duration": 765,
    "start_time": "2025-03-12T00:15:56.925Z"
   },
   {
    "duration": 752,
    "start_time": "2025-03-12T00:18:22.535Z"
   },
   {
    "duration": 29,
    "start_time": "2025-03-12T00:19:07.821Z"
   },
   {
    "duration": 15,
    "start_time": "2025-03-12T00:20:04.192Z"
   },
   {
    "duration": 921,
    "start_time": "2025-03-12T00:21:17.571Z"
   },
   {
    "duration": 16,
    "start_time": "2025-03-12T00:21:18.494Z"
   },
   {
    "duration": 99,
    "start_time": "2025-03-12T00:21:18.511Z"
   },
   {
    "duration": 10,
    "start_time": "2025-03-12T00:21:18.612Z"
   },
   {
    "duration": 3,
    "start_time": "2025-03-12T00:21:18.624Z"
   },
   {
    "duration": 4,
    "start_time": "2025-03-12T00:21:18.629Z"
   },
   {
    "duration": 34,
    "start_time": "2025-03-12T00:21:18.634Z"
   },
   {
    "duration": 4,
    "start_time": "2025-03-12T00:21:18.670Z"
   },
   {
    "duration": 11,
    "start_time": "2025-03-12T00:21:18.675Z"
   },
   {
    "duration": 18,
    "start_time": "2025-03-12T00:21:18.688Z"
   },
   {
    "duration": 124,
    "start_time": "2025-03-12T00:21:18.707Z"
   },
   {
    "duration": 12,
    "start_time": "2025-03-12T00:21:18.834Z"
   },
   {
    "duration": 821,
    "start_time": "2025-03-12T00:21:18.858Z"
   },
   {
    "duration": 15,
    "start_time": "2025-03-12T00:21:19.681Z"
   },
   {
    "duration": 806,
    "start_time": "2025-03-12T00:21:19.697Z"
   },
   {
    "duration": 15780,
    "start_time": "2025-03-12T00:21:20.505Z"
   },
   {
    "duration": 1077,
    "start_time": "2025-03-12T00:21:42.633Z"
   },
   {
    "duration": 16,
    "start_time": "2025-03-12T00:21:43.712Z"
   },
   {
    "duration": 89,
    "start_time": "2025-03-12T00:21:43.730Z"
   },
   {
    "duration": 10,
    "start_time": "2025-03-12T00:21:43.821Z"
   },
   {
    "duration": 33,
    "start_time": "2025-03-12T00:21:43.833Z"
   },
   {
    "duration": 4,
    "start_time": "2025-03-12T00:21:43.871Z"
   },
   {
    "duration": 7,
    "start_time": "2025-03-12T00:21:43.878Z"
   },
   {
    "duration": 4,
    "start_time": "2025-03-12T00:21:43.886Z"
   },
   {
    "duration": 10,
    "start_time": "2025-03-12T00:21:43.893Z"
   },
   {
    "duration": 16,
    "start_time": "2025-03-12T00:21:43.905Z"
   },
   {
    "duration": 112,
    "start_time": "2025-03-12T00:21:43.922Z"
   },
   {
    "duration": 26,
    "start_time": "2025-03-12T00:21:44.036Z"
   },
   {
    "duration": 863,
    "start_time": "2025-03-12T00:21:44.071Z"
   },
   {
    "duration": 20,
    "start_time": "2025-03-12T00:21:44.938Z"
   },
   {
    "duration": 795,
    "start_time": "2025-03-12T00:21:44.959Z"
   },
   {
    "duration": 18928,
    "start_time": "2025-03-12T00:21:45.767Z"
   },
   {
    "duration": 966,
    "start_time": "2025-03-12T00:22:07.996Z"
   },
   {
    "duration": 16,
    "start_time": "2025-03-12T00:22:08.969Z"
   },
   {
    "duration": 94,
    "start_time": "2025-03-12T00:22:08.986Z"
   },
   {
    "duration": 11,
    "start_time": "2025-03-12T00:22:09.082Z"
   },
   {
    "duration": 3,
    "start_time": "2025-03-12T00:22:09.095Z"
   },
   {
    "duration": 3,
    "start_time": "2025-03-12T00:22:09.100Z"
   },
   {
    "duration": 6,
    "start_time": "2025-03-12T00:22:09.105Z"
   },
   {
    "duration": 4,
    "start_time": "2025-03-12T00:22:09.112Z"
   },
   {
    "duration": 49,
    "start_time": "2025-03-12T00:22:09.118Z"
   },
   {
    "duration": 17,
    "start_time": "2025-03-12T00:22:09.169Z"
   },
   {
    "duration": 116,
    "start_time": "2025-03-12T00:22:09.188Z"
   },
   {
    "duration": 8,
    "start_time": "2025-03-12T00:22:09.306Z"
   },
   {
    "duration": 850,
    "start_time": "2025-03-12T00:22:09.316Z"
   },
   {
    "duration": 15,
    "start_time": "2025-03-12T00:22:10.170Z"
   },
   {
    "duration": 789,
    "start_time": "2025-03-12T00:22:10.187Z"
   },
   {
    "duration": 921,
    "start_time": "2025-03-12T00:22:47.167Z"
   },
   {
    "duration": 16,
    "start_time": "2025-03-12T00:22:48.090Z"
   },
   {
    "duration": 96,
    "start_time": "2025-03-12T00:22:48.108Z"
   },
   {
    "duration": 10,
    "start_time": "2025-03-12T00:22:48.206Z"
   },
   {
    "duration": 3,
    "start_time": "2025-03-12T00:22:48.217Z"
   },
   {
    "duration": 4,
    "start_time": "2025-03-12T00:22:48.222Z"
   },
   {
    "duration": 30,
    "start_time": "2025-03-12T00:22:48.228Z"
   },
   {
    "duration": 4,
    "start_time": "2025-03-12T00:22:48.270Z"
   },
   {
    "duration": 11,
    "start_time": "2025-03-12T00:22:48.276Z"
   },
   {
    "duration": 17,
    "start_time": "2025-03-12T00:22:48.289Z"
   },
   {
    "duration": 116,
    "start_time": "2025-03-12T00:22:48.308Z"
   },
   {
    "duration": 8,
    "start_time": "2025-03-12T00:22:48.426Z"
   },
   {
    "duration": 855,
    "start_time": "2025-03-12T00:22:48.436Z"
   },
   {
    "duration": 16,
    "start_time": "2025-03-12T00:22:49.293Z"
   },
   {
    "duration": 813,
    "start_time": "2025-03-12T00:22:49.311Z"
   },
   {
    "duration": 987,
    "start_time": "2025-03-12T00:23:11.663Z"
   },
   {
    "duration": 27,
    "start_time": "2025-03-12T00:23:12.652Z"
   },
   {
    "duration": 92,
    "start_time": "2025-03-12T00:23:12.681Z"
   },
   {
    "duration": 10,
    "start_time": "2025-03-12T00:23:12.775Z"
   },
   {
    "duration": 3,
    "start_time": "2025-03-12T00:23:12.789Z"
   },
   {
    "duration": 3,
    "start_time": "2025-03-12T00:23:12.794Z"
   },
   {
    "duration": 6,
    "start_time": "2025-03-12T00:23:12.798Z"
   },
   {
    "duration": 5,
    "start_time": "2025-03-12T00:23:12.805Z"
   },
   {
    "duration": 54,
    "start_time": "2025-03-12T00:23:12.812Z"
   },
   {
    "duration": 17,
    "start_time": "2025-03-12T00:23:12.868Z"
   },
   {
    "duration": 119,
    "start_time": "2025-03-12T00:23:12.887Z"
   },
   {
    "duration": 7,
    "start_time": "2025-03-12T00:23:13.008Z"
   },
   {
    "duration": 880,
    "start_time": "2025-03-12T00:23:13.018Z"
   },
   {
    "duration": 14,
    "start_time": "2025-03-12T00:23:13.901Z"
   },
   {
    "duration": 797,
    "start_time": "2025-03-12T00:23:13.917Z"
   },
   {
    "duration": 290,
    "start_time": "2025-03-12T00:23:14.715Z"
   },
   {
    "duration": 0,
    "start_time": "2025-03-12T00:23:15.007Z"
   },
   {
    "duration": 1040,
    "start_time": "2025-03-12T00:25:33.384Z"
   },
   {
    "duration": 20,
    "start_time": "2025-03-12T00:25:34.426Z"
   },
   {
    "duration": 113,
    "start_time": "2025-03-12T00:25:34.458Z"
   },
   {
    "duration": 11,
    "start_time": "2025-03-12T00:25:34.573Z"
   },
   {
    "duration": 5,
    "start_time": "2025-03-12T00:25:34.586Z"
   },
   {
    "duration": 4,
    "start_time": "2025-03-12T00:25:34.592Z"
   },
   {
    "duration": 6,
    "start_time": "2025-03-12T00:25:34.598Z"
   },
   {
    "duration": 4,
    "start_time": "2025-03-12T00:25:34.605Z"
   },
   {
    "duration": 11,
    "start_time": "2025-03-12T00:25:34.611Z"
   },
   {
    "duration": 48,
    "start_time": "2025-03-12T00:25:34.624Z"
   },
   {
    "duration": 116,
    "start_time": "2025-03-12T00:25:34.674Z"
   },
   {
    "duration": 8,
    "start_time": "2025-03-12T00:25:34.793Z"
   },
   {
    "duration": 827,
    "start_time": "2025-03-12T00:25:34.803Z"
   },
   {
    "duration": 26,
    "start_time": "2025-03-12T00:25:35.633Z"
   },
   {
    "duration": 809,
    "start_time": "2025-03-12T00:25:35.664Z"
   },
   {
    "duration": 1007,
    "start_time": "2025-03-12T00:27:56.608Z"
   },
   {
    "duration": 15,
    "start_time": "2025-03-12T00:27:57.618Z"
   },
   {
    "duration": 96,
    "start_time": "2025-03-12T00:27:57.635Z"
   },
   {
    "duration": 21,
    "start_time": "2025-03-12T00:27:57.733Z"
   },
   {
    "duration": 3,
    "start_time": "2025-03-12T00:27:57.767Z"
   },
   {
    "duration": 3,
    "start_time": "2025-03-12T00:27:57.772Z"
   },
   {
    "duration": 6,
    "start_time": "2025-03-12T00:27:57.777Z"
   },
   {
    "duration": 4,
    "start_time": "2025-03-12T00:27:57.785Z"
   },
   {
    "duration": 11,
    "start_time": "2025-03-12T00:27:57.792Z"
   },
   {
    "duration": 17,
    "start_time": "2025-03-12T00:27:57.805Z"
   },
   {
    "duration": 138,
    "start_time": "2025-03-12T00:27:57.824Z"
   },
   {
    "duration": 9,
    "start_time": "2025-03-12T00:27:57.967Z"
   },
   {
    "duration": 829,
    "start_time": "2025-03-12T00:27:57.977Z"
   },
   {
    "duration": 15,
    "start_time": "2025-03-12T00:27:58.808Z"
   },
   {
    "duration": 813,
    "start_time": "2025-03-12T00:27:58.825Z"
   },
   {
    "duration": 6537,
    "start_time": "2025-03-12T00:27:59.639Z"
   },
   {
    "duration": 3371,
    "start_time": "2025-03-12T00:33:22.252Z"
   },
   {
    "duration": 1327,
    "start_time": "2025-04-15T01:07:03.815Z"
   },
   {
    "duration": 35,
    "start_time": "2025-04-15T01:07:05.600Z"
   },
   {
    "duration": 473,
    "start_time": "2025-04-15T01:08:09.953Z"
   },
   {
    "duration": 45,
    "start_time": "2025-04-15T01:08:29.570Z"
   },
   {
    "duration": 33,
    "start_time": "2025-04-15T01:08:44.688Z"
   },
   {
    "duration": 36,
    "start_time": "2025-04-15T01:08:55.835Z"
   },
   {
    "duration": 1129,
    "start_time": "2025-04-15T01:11:29.454Z"
   },
   {
    "duration": 38,
    "start_time": "2025-04-15T01:11:42.892Z"
   },
   {
    "duration": 8955,
    "start_time": "2025-04-15T01:12:05.099Z"
   },
   {
    "duration": 989,
    "start_time": "2025-04-15T01:12:27.772Z"
   },
   {
    "duration": 1365,
    "start_time": "2025-04-15T01:12:41.323Z"
   },
   {
    "duration": 977,
    "start_time": "2025-04-15T01:12:42.691Z"
   },
   {
    "duration": 1431,
    "start_time": "2025-04-15T01:13:31.977Z"
   },
   {
    "duration": 1003,
    "start_time": "2025-04-15T01:13:33.411Z"
   },
   {
    "duration": 20,
    "start_time": "2025-04-15T01:13:41.458Z"
   },
   {
    "duration": 10247,
    "start_time": "2025-04-15T01:13:57.624Z"
   },
   {
    "duration": 11042,
    "start_time": "2025-04-15T01:14:34.654Z"
   },
   {
    "duration": 1088,
    "start_time": "2025-04-15T01:15:35.425Z"
   },
   {
    "duration": 35,
    "start_time": "2025-04-15T01:15:36.515Z"
   },
   {
    "duration": 980,
    "start_time": "2025-04-15T01:16:03.279Z"
   },
   {
    "duration": 13,
    "start_time": "2025-04-15T01:16:04.261Z"
   },
   {
    "duration": 22,
    "start_time": "2025-04-15T01:16:04.275Z"
   },
   {
    "duration": 20,
    "start_time": "2025-04-15T01:17:28.248Z"
   },
   {
    "duration": 296,
    "start_time": "2025-04-15T01:17:57.528Z"
   },
   {
    "duration": 9555,
    "start_time": "2025-04-15T01:18:13.075Z"
   },
   {
    "duration": 56,
    "start_time": "2025-04-15T01:18:48.957Z"
   },
   {
    "duration": 1028,
    "start_time": "2025-04-15T01:31:31.929Z"
   },
   {
    "duration": 13,
    "start_time": "2025-04-15T01:31:32.959Z"
   },
   {
    "duration": 17,
    "start_time": "2025-04-15T01:31:32.973Z"
   },
   {
    "duration": 30,
    "start_time": "2025-04-15T01:31:32.991Z"
   },
   {
    "duration": 391,
    "start_time": "2025-04-15T01:31:33.022Z"
   },
   {
    "duration": 9283,
    "start_time": "2025-04-15T01:31:33.415Z"
   },
   {
    "duration": 42,
    "start_time": "2025-04-15T01:31:42.700Z"
   },
   {
    "duration": 1044,
    "start_time": "2025-04-15T01:42:04.970Z"
   },
   {
    "duration": 1564,
    "start_time": "2025-04-15T02:13:15.904Z"
   },
   {
    "duration": 42,
    "start_time": "2025-04-15T02:13:53.274Z"
   },
   {
    "duration": 26,
    "start_time": "2025-04-15T02:14:17.361Z"
   },
   {
    "duration": 21,
    "start_time": "2025-04-15T02:15:02.047Z"
   },
   {
    "duration": 552,
    "start_time": "2025-04-15T02:15:13.317Z"
   },
   {
    "duration": 789,
    "start_time": "2025-04-15T02:15:21.601Z"
   },
   {
    "duration": 834,
    "start_time": "2025-04-21T23:50:19.654Z"
   },
   {
    "duration": 65,
    "start_time": "2025-04-21T23:50:47.453Z"
   },
   {
    "duration": 853,
    "start_time": "2025-04-21T23:50:53.952Z"
   },
   {
    "duration": 31,
    "start_time": "2025-04-21T23:51:34.895Z"
   },
   {
    "duration": 13,
    "start_time": "2025-04-21T23:51:48.984Z"
   },
   {
    "duration": 19,
    "start_time": "2025-04-21T23:52:51.665Z"
   },
   {
    "duration": 605,
    "start_time": "2025-04-21T23:54:23.594Z"
   },
   {
    "duration": 2227,
    "start_time": "2025-04-21T23:55:42.478Z"
   },
   {
    "duration": 319,
    "start_time": "2025-04-22T00:11:28.612Z"
   },
   {
    "duration": 267,
    "start_time": "2025-04-22T00:12:51.672Z"
   },
   {
    "duration": 1893,
    "start_time": "2025-04-22T00:14:56.632Z"
   },
   {
    "duration": 379,
    "start_time": "2025-04-22T00:16:23.369Z"
   },
   {
    "duration": 14,
    "start_time": "2025-04-22T00:16:23.750Z"
   },
   {
    "duration": 16,
    "start_time": "2025-04-22T00:16:23.765Z"
   },
   {
    "duration": 478,
    "start_time": "2025-04-22T00:16:23.783Z"
   },
   {
    "duration": 567,
    "start_time": "2025-04-22T00:16:24.263Z"
   },
   {
    "duration": 880,
    "start_time": "2025-04-22T00:16:24.832Z"
   },
   {
    "duration": 6,
    "start_time": "2025-04-22T00:16:25.716Z"
   },
   {
    "duration": 0,
    "start_time": "2025-04-22T00:16:25.724Z"
   },
   {
    "duration": 0,
    "start_time": "2025-04-22T00:16:25.725Z"
   },
   {
    "duration": 0,
    "start_time": "2025-04-22T00:16:25.728Z"
   },
   {
    "duration": 4,
    "start_time": "2025-04-22T00:16:43.120Z"
   },
   {
    "duration": 339,
    "start_time": "2025-04-22T00:17:00.544Z"
   },
   {
    "duration": 14,
    "start_time": "2025-04-22T00:17:00.885Z"
   },
   {
    "duration": 25,
    "start_time": "2025-04-22T00:17:00.901Z"
   },
   {
    "duration": 516,
    "start_time": "2025-04-22T00:17:00.928Z"
   },
   {
    "duration": 497,
    "start_time": "2025-04-22T00:17:01.447Z"
   },
   {
    "duration": 914,
    "start_time": "2025-04-22T00:17:01.946Z"
   },
   {
    "duration": 5,
    "start_time": "2025-04-22T00:17:02.862Z"
   },
   {
    "duration": 0,
    "start_time": "2025-04-22T00:17:02.869Z"
   },
   {
    "duration": 0,
    "start_time": "2025-04-22T00:17:02.870Z"
   },
   {
    "duration": 0,
    "start_time": "2025-04-22T00:17:02.872Z"
   },
   {
    "duration": 343,
    "start_time": "2025-04-22T00:17:26.059Z"
   },
   {
    "duration": 14,
    "start_time": "2025-04-22T00:17:26.404Z"
   },
   {
    "duration": 18,
    "start_time": "2025-04-22T00:17:26.423Z"
   },
   {
    "duration": 558,
    "start_time": "2025-04-22T00:17:26.443Z"
   },
   {
    "duration": 541,
    "start_time": "2025-04-22T00:17:27.004Z"
   },
   {
    "duration": 930,
    "start_time": "2025-04-22T00:17:27.547Z"
   },
   {
    "duration": 5,
    "start_time": "2025-04-22T00:17:28.480Z"
   },
   {
    "duration": 1,
    "start_time": "2025-04-22T00:17:28.487Z"
   },
   {
    "duration": 0,
    "start_time": "2025-04-22T00:17:28.489Z"
   },
   {
    "duration": 0,
    "start_time": "2025-04-22T00:17:28.490Z"
   },
   {
    "duration": 328,
    "start_time": "2025-04-22T00:17:48.462Z"
   },
   {
    "duration": 14,
    "start_time": "2025-04-22T00:17:48.792Z"
   },
   {
    "duration": 25,
    "start_time": "2025-04-22T00:17:48.807Z"
   },
   {
    "duration": 518,
    "start_time": "2025-04-22T00:17:48.834Z"
   },
   {
    "duration": 579,
    "start_time": "2025-04-22T00:17:49.354Z"
   },
   {
    "duration": 926,
    "start_time": "2025-04-22T00:17:49.934Z"
   },
   {
    "duration": 5,
    "start_time": "2025-04-22T00:17:50.861Z"
   },
   {
    "duration": 0,
    "start_time": "2025-04-22T00:17:50.868Z"
   },
   {
    "duration": 0,
    "start_time": "2025-04-22T00:17:50.869Z"
   },
   {
    "duration": 0,
    "start_time": "2025-04-22T00:17:50.871Z"
   },
   {
    "duration": 304,
    "start_time": "2025-04-22T00:20:02.707Z"
   },
   {
    "duration": 16,
    "start_time": "2025-04-22T00:20:03.012Z"
   },
   {
    "duration": 17,
    "start_time": "2025-04-22T00:20:03.030Z"
   },
   {
    "duration": 503,
    "start_time": "2025-04-22T00:20:03.049Z"
   },
   {
    "duration": 573,
    "start_time": "2025-04-22T00:20:03.553Z"
   },
   {
    "duration": 868,
    "start_time": "2025-04-22T00:20:04.128Z"
   },
   {
    "duration": 1126,
    "start_time": "2025-04-22T00:20:04.998Z"
   },
   {
    "duration": 10,
    "start_time": "2025-04-22T00:20:06.126Z"
   },
   {
    "duration": 1184,
    "start_time": "2025-04-22T00:31:25.679Z"
   },
   {
    "duration": 16,
    "start_time": "2025-04-22T00:36:34.997Z"
   },
   {
    "duration": 56,
    "start_time": "2025-04-22T00:37:22.108Z"
   },
   {
    "duration": 764,
    "start_time": "2025-04-22T00:38:34.094Z"
   },
   {
    "duration": 359,
    "start_time": "2025-04-22T00:38:42.241Z"
   },
   {
    "duration": 821,
    "start_time": "2025-04-22T00:38:42.603Z"
   },
   {
    "duration": 957,
    "start_time": "2025-04-22T00:42:20.082Z"
   },
   {
    "duration": 366,
    "start_time": "2025-04-22T00:42:26.742Z"
   },
   {
    "duration": 619,
    "start_time": "2025-04-22T00:42:27.110Z"
   },
   {
    "duration": 16,
    "start_time": "2025-04-22T00:59:01.803Z"
   },
   {
    "duration": 331,
    "start_time": "2025-04-22T00:59:12.948Z"
   },
   {
    "duration": 52,
    "start_time": "2025-04-22T00:59:13.281Z"
   },
   {
    "duration": 5,
    "start_time": "2025-04-22T00:59:48.351Z"
   },
   {
    "duration": 7,
    "start_time": "2025-04-22T01:00:10.785Z"
   },
   {
    "duration": 12,
    "start_time": "2025-04-22T01:00:43.374Z"
   },
   {
    "duration": 481,
    "start_time": "2025-04-22T01:01:05.732Z"
   },
   {
    "duration": 5,
    "start_time": "2025-04-22T01:01:25.697Z"
   },
   {
    "duration": 333,
    "start_time": "2025-04-22T01:02:12.743Z"
   },
   {
    "duration": 50,
    "start_time": "2025-04-22T01:02:13.078Z"
   },
   {
    "duration": 5,
    "start_time": "2025-04-22T01:02:13.129Z"
   },
   {
    "duration": 6,
    "start_time": "2025-04-22T01:02:13.136Z"
   },
   {
    "duration": 11,
    "start_time": "2025-04-22T01:02:13.144Z"
   },
   {
    "duration": 466,
    "start_time": "2025-04-22T01:02:13.157Z"
   },
   {
    "duration": 6,
    "start_time": "2025-04-22T01:02:13.625Z"
   },
   {
    "duration": 19,
    "start_time": "2025-04-22T01:07:13.502Z"
   },
   {
    "duration": 62,
    "start_time": "2025-04-22T01:07:53.266Z"
   },
   {
    "duration": 228,
    "start_time": "2025-04-22T01:12:12.446Z"
   },
   {
    "duration": 40,
    "start_time": "2025-04-22T01:12:54.104Z"
   },
   {
    "duration": 354,
    "start_time": "2025-04-22T01:17:07.352Z"
   },
   {
    "duration": 48,
    "start_time": "2025-04-22T01:17:07.711Z"
   },
   {
    "duration": 8,
    "start_time": "2025-04-22T01:17:07.761Z"
   },
   {
    "duration": 13,
    "start_time": "2025-04-22T01:17:07.770Z"
   },
   {
    "duration": 588,
    "start_time": "2025-04-22T01:17:07.785Z"
   },
   {
    "duration": 3,
    "start_time": "2025-04-22T01:17:08.375Z"
   },
   {
    "duration": 5,
    "start_time": "2025-04-22T01:17:08.380Z"
   },
   {
    "duration": 17,
    "start_time": "2025-04-22T01:17:08.387Z"
   },
   {
    "duration": 133,
    "start_time": "2025-04-22T01:17:08.405Z"
   },
   {
    "duration": 187,
    "start_time": "2025-04-22T01:17:08.540Z"
   },
   {
    "duration": 37,
    "start_time": "2025-04-22T01:17:30.831Z"
   },
   {
    "duration": 8,
    "start_time": "2025-04-22T01:19:35.809Z"
   },
   {
    "duration": 8,
    "start_time": "2025-04-22T01:19:56.736Z"
   },
   {
    "duration": 23,
    "start_time": "2025-04-22T01:21:00.718Z"
   },
   {
    "duration": 350,
    "start_time": "2025-04-22T01:23:23.136Z"
   },
   {
    "duration": 56,
    "start_time": "2025-04-22T01:23:23.488Z"
   },
   {
    "duration": 7,
    "start_time": "2025-04-22T01:23:23.545Z"
   },
   {
    "duration": 12,
    "start_time": "2025-04-22T01:23:23.554Z"
   },
   {
    "duration": 522,
    "start_time": "2025-04-22T01:23:23.568Z"
   },
   {
    "duration": 3,
    "start_time": "2025-04-22T01:23:24.092Z"
   },
   {
    "duration": 5,
    "start_time": "2025-04-22T01:23:24.097Z"
   },
   {
    "duration": 28,
    "start_time": "2025-04-22T01:23:24.104Z"
   },
   {
    "duration": 91,
    "start_time": "2025-04-22T01:23:24.134Z"
   },
   {
    "duration": 28,
    "start_time": "2025-04-22T01:23:24.228Z"
   },
   {
    "duration": 26,
    "start_time": "2025-04-22T01:23:24.325Z"
   },
   {
    "duration": 72,
    "start_time": "2025-04-22T01:23:24.352Z"
   },
   {
    "duration": 29,
    "start_time": "2025-04-22T01:23:24.426Z"
   },
   {
    "duration": 251350,
    "start_time": "2025-04-22T01:23:24.458Z"
   },
   {
    "duration": 161,
    "start_time": "2025-04-22T01:27:35.810Z"
   },
   {
    "duration": 297,
    "start_time": "2025-04-22T01:42:19.098Z"
   },
   {
    "duration": 45,
    "start_time": "2025-04-22T01:42:19.397Z"
   },
   {
    "duration": 5,
    "start_time": "2025-04-22T01:42:19.444Z"
   },
   {
    "duration": 11,
    "start_time": "2025-04-22T01:42:19.451Z"
   },
   {
    "duration": 477,
    "start_time": "2025-04-22T01:42:19.465Z"
   },
   {
    "duration": 4,
    "start_time": "2025-04-22T01:42:19.944Z"
   },
   {
    "duration": 4,
    "start_time": "2025-04-22T01:42:19.951Z"
   },
   {
    "duration": 17,
    "start_time": "2025-04-22T01:42:19.957Z"
   },
   {
    "duration": 72,
    "start_time": "2025-04-22T01:42:19.975Z"
   },
   {
    "duration": 177,
    "start_time": "2025-04-22T01:42:20.048Z"
   },
   {
    "duration": 103,
    "start_time": "2025-04-22T01:42:20.231Z"
   },
   {
    "duration": 8,
    "start_time": "2025-04-22T01:42:20.336Z"
   },
   {
    "duration": 91,
    "start_time": "2025-04-22T01:42:20.346Z"
   },
   {
    "duration": 249062,
    "start_time": "2025-04-22T01:42:20.441Z"
   },
   {
    "duration": 148,
    "start_time": "2025-04-22T01:46:29.505Z"
   },
   {
    "duration": 421,
    "start_time": "2025-04-29T17:17:15.048Z"
   },
   {
    "duration": 50,
    "start_time": "2025-04-29T17:17:15.472Z"
   },
   {
    "duration": 9,
    "start_time": "2025-04-29T17:17:15.524Z"
   },
   {
    "duration": 14,
    "start_time": "2025-04-29T17:17:15.534Z"
   },
   {
    "duration": 599,
    "start_time": "2025-04-29T17:17:15.551Z"
   },
   {
    "duration": 7,
    "start_time": "2025-04-29T17:17:16.152Z"
   },
   {
    "duration": 8,
    "start_time": "2025-04-29T17:17:16.160Z"
   },
   {
    "duration": 19,
    "start_time": "2025-04-29T17:17:16.170Z"
   },
   {
    "duration": 150,
    "start_time": "2025-04-29T17:17:16.191Z"
   },
   {
    "duration": 191,
    "start_time": "2025-04-29T17:17:16.344Z"
   },
   {
    "duration": 120,
    "start_time": "2025-04-29T17:17:16.537Z"
   },
   {
    "duration": 81,
    "start_time": "2025-04-29T17:17:16.660Z"
   },
   {
    "duration": 27,
    "start_time": "2025-04-29T17:17:16.743Z"
   },
   {
    "duration": 257602,
    "start_time": "2025-04-29T17:17:16.773Z"
   },
   {
    "duration": 186,
    "start_time": "2025-04-29T17:21:34.378Z"
   },
   {
    "duration": 255798,
    "start_time": "2025-04-29T17:21:34.567Z"
   },
   {
    "duration": 3031,
    "start_time": "2025-05-06T16:07:02.149Z"
   },
   {
    "duration": 27,
    "start_time": "2025-05-06T16:07:23.748Z"
   },
   {
    "duration": 41,
    "start_time": "2025-05-06T16:07:34.900Z"
   },
   {
    "duration": 8,
    "start_time": "2025-05-06T16:07:51.759Z"
   },
   {
    "duration": 13,
    "start_time": "2025-05-06T16:08:00.954Z"
   },
   {
    "duration": 18,
    "start_time": "2025-05-06T16:08:09.006Z"
   },
   {
    "duration": 8,
    "start_time": "2025-05-06T16:08:19.103Z"
   },
   {
    "duration": 19,
    "start_time": "2025-05-06T16:10:15.653Z"
   },
   {
    "duration": 329,
    "start_time": "2025-05-06T16:10:40.280Z"
   },
   {
    "duration": 4912,
    "start_time": "2025-05-06T16:12:16.384Z"
   },
   {
    "duration": 73207,
    "start_time": "2025-05-06T16:12:36.186Z"
   }
  ],
  "kernelspec": {
   "display_name": "Python 3 (ipykernel)",
   "language": "python",
   "name": "python3"
  },
  "language_info": {
   "codemirror_mode": {
    "name": "ipython",
    "version": 3
   },
   "file_extension": ".py",
   "mimetype": "text/x-python",
   "name": "python",
   "nbconvert_exporter": "python",
   "pygments_lexer": "ipython3",
   "version": "3.9.19"
  },
  "toc": {
   "base_numbering": 1,
   "nav_menu": {},
   "number_sections": true,
   "sideBar": true,
   "skip_h1_title": true,
   "title_cell": "Table of Contents",
   "title_sidebar": "Contents",
   "toc_cell": false,
   "toc_position": {},
   "toc_section_display": true,
   "toc_window_display": false
  }
 },
 "nbformat": 4,
 "nbformat_minor": 2
}
